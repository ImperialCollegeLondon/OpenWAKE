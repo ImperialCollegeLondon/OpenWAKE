{
 "cells": [
  {
   "cell_type": "markdown",
   "metadata": {},
   "source": [
    "## Initialise Paths & Install Dependencies\n"
   ]
  },
  {
   "cell_type": "code",
   "execution_count": 1,
   "metadata": {
    "scrolled": true
   },
   "outputs": [],
   "source": [
    "#!/usr/bin/env python3\n",
    "\n",
    "import os\n",
    "import sys\n",
    "\n",
    "src_dir = '/'.join([os.getcwd().split('/tests')[0],'openwake'])\n",
    "if src_dir not in sys.path:\n",
    "    sys.path.append(src_dir)\n",
    "    \n",
    "nb_dir = os.path.split(os.getcwd())[0]\n",
    "if nb_dir not in sys.path:\n",
    "    sys.path.append(nb_dir)\n",
    "    \n",
    "## UNCOMMENT THIS THE FIRST TIME YOU RUN ON A MACHINE, THEN RECOMMENT\n",
    "#!bash ../install_dependencies.sh\n",
    "##"
   ]
  },
  {
   "cell_type": "markdown",
   "metadata": {},
   "source": [
    "## Turbine Model"
   ]
  },
  {
   "cell_type": "code",
   "execution_count": 2,
   "metadata": {},
   "outputs": [
    {
     "data": {
      "text/plain": [
       "'\\nturbines = turbineFieldInst.get_turbines()\\n\\nplot_turbine_coefficients(baseTurbineInst1)\\nplot_turbine_location(turbineFieldInst)\\n'"
      ]
     },
     "execution_count": 2,
     "metadata": {},
     "output_type": "execute_result"
    }
   ],
   "source": [
    "from turbine_models.base_turbine import BaseTurbine, TurbineField\n",
    "from plot_functions.plots import plot_turbine_coefficients, plot_turbine_location\n",
    "\n",
    "## START MODIFYING TURBINE VALUES\n",
    "radius = 10\n",
    "coordinates1 = [0,500,0]\n",
    "coordinates2 = [0,1000,0]\n",
    "coordinates3 = [0,1500,0]\n",
    "coordinates4 = [500,500,0]\n",
    "coordinates5 = [500,1000,0]\n",
    "coordinates6 = [500,1500,0]\n",
    "topClearance = 20\n",
    "direction = [-1,0,0]\n",
    "thrustCoefficient = [range(0,10),[0.1,0.1,0.22,0.3,0.4,0.5,0.6,0.63,0.7,0.7]]\n",
    "powerCoefficient = [range(0,10),[0.1,0.1,0.27,0.36,0.6,0.8,0.93,0.94,0.97,0.97]]\n",
    "## STOP MODIFYING\n",
    "\n",
    "turbineFieldInst = TurbineField()\n",
    "\n",
    "baseTurbineInst1 = BaseTurbine( radius, coordinates1, topClearance, direction, thrustCoefficient, powerCoefficient, turbineFieldInst)\n",
    "baseTurbineInst2 = BaseTurbine( radius, coordinates2, topClearance, direction, thrustCoefficient, powerCoefficient, turbineFieldInst)\n",
    "baseTurbineInst3 = BaseTurbine( radius, coordinates3, topClearance, direction, thrustCoefficient, powerCoefficient, turbineFieldInst)\n",
    "\n",
    "baseTurbineInst4 = BaseTurbine( radius, coordinates4, topClearance, direction, thrustCoefficient, powerCoefficient, turbineFieldInst)\n",
    "baseTurbineInst5 = BaseTurbine( radius, coordinates5, topClearance, direction, thrustCoefficient, powerCoefficient, turbineFieldInst)\n",
    "baseTurbineInst6 = BaseTurbine( radius, coordinates6, topClearance, direction, thrustCoefficient, powerCoefficient, turbineFieldInst)\n",
    "\n",
    "\"\"\"\n",
    "turbines = turbineFieldInst.get_turbines()\n",
    "\n",
    "plot_turbine_coefficients(baseTurbineInst1)\n",
    "plot_turbine_location(turbineFieldInst)\n",
    "\"\"\""
   ]
  },
  {
   "cell_type": "markdown",
   "metadata": {},
   "source": [
    "## Flow-Field Model"
   ]
  },
  {
   "cell_type": "code",
   "execution_count": 3,
   "metadata": {},
   "outputs": [
    {
     "name": "stdout",
     "output_type": "stream",
     "text": [
      "(50, 50, 50)\n"
     ]
    }
   ],
   "source": [
    "from flow_field_model.flow import FlowField\n",
    "from plot_functions.plots import plot_flow_field\n",
    "import numpy as np\n",
    "from helpers import *\n",
    "\n",
    "## START MODIFYING FLOW-FIELD VALUES\n",
    "xCoords = yCoords = zCoords = list(range(0,2000,1))\n",
    "\n",
    "flow = np.zeros((len(xCoords), len(yCoords), len(zCoords), 3))\n",
    "flow[:,:,:] = 15,0,0\n",
    "\n",
    "## STOP MODIFYING\n",
    "\n",
    "flowFieldInst = FlowField(xCoords, yCoords, zCoords, flow)\n",
    "flowFieldInst\n",
    "\n",
    "print(flowFieldInst.get_lengths())"
   ]
  },
  {
   "cell_type": "markdown",
   "metadata": {},
   "source": [
    "## Wake Models "
   ]
  },
  {
   "cell_type": "markdown",
   "metadata": {},
   "source": [
    "### Jensen Model"
   ]
  },
  {
   "cell_type": "code",
   "execution_count": 4,
   "metadata": {},
   "outputs": [
    {
     "ename": "TypeError",
     "evalue": "'direction' must be of type 'list' with three elements.",
     "output_type": "error",
     "traceback": [
      "\u001b[0;31m---------------------------------------------------------------------------\u001b[0m",
      "\u001b[0;31mAssertionError\u001b[0m                            Traceback (most recent call last)",
      "\u001b[0;32m~/Google Drive/OpenWAKE/openwake/turbine_models/base_turbine.py\u001b[0m in \u001b[0;36mset_direction\u001b[0;34m(self, direction)\u001b[0m\n\u001b[1;32m    138\u001b[0m             \u001b[0;32massert\u001b[0m \u001b[0mlen\u001b[0m\u001b[0;34m(\u001b[0m\u001b[0mdirection\u001b[0m\u001b[0;34m)\u001b[0m \u001b[0;34m==\u001b[0m \u001b[0;36m3\u001b[0m\u001b[0;34m\u001b[0m\u001b[0m\n\u001b[0;32m--> 139\u001b[0;31m             \u001b[0;32massert\u001b[0m \u001b[0mall\u001b[0m\u001b[0;34m(\u001b[0m\u001b[0misinstance\u001b[0m\u001b[0;34m(\u001b[0m\u001b[0md\u001b[0m\u001b[0;34m,\u001b[0m \u001b[0;34m(\u001b[0m\u001b[0mfloat\u001b[0m\u001b[0;34m,\u001b[0m\u001b[0mint\u001b[0m\u001b[0;34m)\u001b[0m\u001b[0;34m)\u001b[0m \u001b[0;32mfor\u001b[0m \u001b[0md\u001b[0m \u001b[0;32min\u001b[0m \u001b[0mdirection\u001b[0m\u001b[0;34m)\u001b[0m\u001b[0;34m\u001b[0m\u001b[0m\n\u001b[0m\u001b[1;32m    140\u001b[0m         \u001b[0;32mexcept\u001b[0m \u001b[0mAssertionError\u001b[0m\u001b[0;34m:\u001b[0m\u001b[0;34m\u001b[0m\u001b[0m\n",
      "\u001b[0;31mAssertionError\u001b[0m: ",
      "\nDuring handling of the above exception, another exception occurred:\n",
      "\u001b[0;31mTypeError\u001b[0m                                 Traceback (most recent call last)",
      "\u001b[0;32m<ipython-input-4-cd32296866c5>\u001b[0m in \u001b[0;36m<module>\u001b[0;34m()\u001b[0m\n\u001b[1;32m      8\u001b[0m \u001b[0mjensenWakeFieldInst\u001b[0m \u001b[0;34m=\u001b[0m \u001b[0mWakeField\u001b[0m\u001b[0;34m(\u001b[0m\u001b[0;34m)\u001b[0m\u001b[0;34m\u001b[0m\u001b[0m\n\u001b[1;32m      9\u001b[0m \u001b[0;34m\u001b[0m\u001b[0m\n\u001b[0;32m---> 10\u001b[0;31m \u001b[0mjensenInst1\u001b[0m \u001b[0;34m=\u001b[0m \u001b[0mJensen\u001b[0m\u001b[0;34m(\u001b[0m\u001b[0mbaseTurbineInst1\u001b[0m\u001b[0;34m,\u001b[0m \u001b[0mflowFieldInst\u001b[0m\u001b[0;34m,\u001b[0m \u001b[0mwakeDecayConstant\u001b[0m\u001b[0;34m,\u001b[0m \u001b[0mjensenWakeFieldInst\u001b[0m\u001b[0;34m)\u001b[0m\u001b[0;34m\u001b[0m\u001b[0m\n\u001b[0m\u001b[1;32m     11\u001b[0m \u001b[0mjensenInst2\u001b[0m \u001b[0;34m=\u001b[0m \u001b[0mJensen\u001b[0m\u001b[0;34m(\u001b[0m\u001b[0mbaseTurbineInst2\u001b[0m\u001b[0;34m,\u001b[0m \u001b[0mflowFieldInst\u001b[0m\u001b[0;34m,\u001b[0m \u001b[0mwakeDecayConstant\u001b[0m\u001b[0;34m,\u001b[0m \u001b[0mjensenWakeFieldInst\u001b[0m\u001b[0;34m)\u001b[0m\u001b[0;34m\u001b[0m\u001b[0m\n\u001b[1;32m     12\u001b[0m \u001b[0mjensenInst3\u001b[0m \u001b[0;34m=\u001b[0m \u001b[0mJensen\u001b[0m\u001b[0;34m(\u001b[0m\u001b[0mbaseTurbineInst3\u001b[0m\u001b[0;34m,\u001b[0m \u001b[0mflowFieldInst\u001b[0m\u001b[0;34m,\u001b[0m \u001b[0mwakeDecayConstant\u001b[0m\u001b[0;34m,\u001b[0m \u001b[0mjensenWakeFieldInst\u001b[0m\u001b[0;34m)\u001b[0m\u001b[0;34m\u001b[0m\u001b[0m\n",
      "\u001b[0;32m~/Google Drive/OpenWAKE/openwake/wake_models/jensen.py\u001b[0m in \u001b[0;36m__init__\u001b[0;34m(self, turbine, flow_field, wake_decay, wake_field)\u001b[0m\n\u001b[1;32m     10\u001b[0m     \u001b[0;32mdef\u001b[0m \u001b[0m__init__\u001b[0m\u001b[0;34m(\u001b[0m\u001b[0mself\u001b[0m\u001b[0;34m,\u001b[0m \u001b[0mturbine\u001b[0m \u001b[0;34m=\u001b[0m \u001b[0mBaseTurbine\u001b[0m\u001b[0;34m(\u001b[0m\u001b[0;34m)\u001b[0m\u001b[0;34m,\u001b[0m \u001b[0mflow_field\u001b[0m \u001b[0;34m=\u001b[0m \u001b[0mFlowField\u001b[0m\u001b[0;34m(\u001b[0m\u001b[0;34m)\u001b[0m\u001b[0;34m,\u001b[0m \u001b[0mwake_decay\u001b[0m \u001b[0;34m=\u001b[0m \u001b[0;36m0.3\u001b[0m\u001b[0;34m,\u001b[0m \u001b[0mwake_field\u001b[0m \u001b[0;34m=\u001b[0m \u001b[0mWakeField\u001b[0m\u001b[0;34m(\u001b[0m\u001b[0;34m)\u001b[0m\u001b[0;34m)\u001b[0m\u001b[0;34m:\u001b[0m\u001b[0;34m\u001b[0m\u001b[0m\n\u001b[1;32m     11\u001b[0m         \u001b[0mself\u001b[0m\u001b[0;34m.\u001b[0m\u001b[0mset_wake_decay\u001b[0m\u001b[0;34m(\u001b[0m\u001b[0mwake_decay\u001b[0m\u001b[0;34m)\u001b[0m\u001b[0;34m\u001b[0m\u001b[0m\n\u001b[0;32m---> 12\u001b[0;31m         \u001b[0msuper\u001b[0m\u001b[0;34m(\u001b[0m\u001b[0mJensen\u001b[0m\u001b[0;34m,\u001b[0m \u001b[0mself\u001b[0m\u001b[0;34m)\u001b[0m\u001b[0;34m.\u001b[0m\u001b[0m__init__\u001b[0m\u001b[0;34m(\u001b[0m\u001b[0mturbine\u001b[0m\u001b[0;34m,\u001b[0m \u001b[0mflow_field\u001b[0m\u001b[0;34m,\u001b[0m \u001b[0mwake_field\u001b[0m\u001b[0;34m)\u001b[0m\u001b[0;34m\u001b[0m\u001b[0m\n\u001b[0m\u001b[1;32m     13\u001b[0m \u001b[0;34m\u001b[0m\u001b[0m\n\u001b[1;32m     14\u001b[0m     \u001b[0;32mdef\u001b[0m \u001b[0mget_wake_decay\u001b[0m\u001b[0;34m(\u001b[0m\u001b[0mself\u001b[0m\u001b[0;34m)\u001b[0m\u001b[0;34m:\u001b[0m\u001b[0;34m\u001b[0m\u001b[0m\n",
      "\u001b[0;32m~/Google Drive/OpenWAKE/openwake/wake_models/base_wake.py\u001b[0m in \u001b[0;36m__init__\u001b[0;34m(self, turbine, flow_field, wake_field)\u001b[0m\n\u001b[1;32m     14\u001b[0m     \u001b[0;32mdef\u001b[0m \u001b[0m__init__\u001b[0m\u001b[0;34m(\u001b[0m \u001b[0mself\u001b[0m\u001b[0;34m,\u001b[0m \u001b[0mturbine\u001b[0m\u001b[0;34m,\u001b[0m \u001b[0mflow_field\u001b[0m \u001b[0;34m=\u001b[0m \u001b[0mFlowField\u001b[0m\u001b[0;34m(\u001b[0m\u001b[0;34m)\u001b[0m\u001b[0;34m,\u001b[0m \u001b[0mwake_field\u001b[0m \u001b[0;34m=\u001b[0m \u001b[0mWakeField\u001b[0m\u001b[0;34m(\u001b[0m\u001b[0;34m)\u001b[0m \u001b[0;34m)\u001b[0m\u001b[0;34m:\u001b[0m\u001b[0;34m\u001b[0m\u001b[0m\n\u001b[1;32m     15\u001b[0m         \u001b[0msuper\u001b[0m\u001b[0;34m(\u001b[0m \u001b[0mBaseWake\u001b[0m\u001b[0;34m,\u001b[0m \u001b[0mself\u001b[0m \u001b[0;34m)\u001b[0m\u001b[0;34m.\u001b[0m\u001b[0m__init__\u001b[0m\u001b[0;34m(\u001b[0m \u001b[0mflow_field\u001b[0m\u001b[0;34m,\u001b[0m \u001b[0mwake_field\u001b[0m \u001b[0;34m)\u001b[0m\u001b[0;34m\u001b[0m\u001b[0m\n\u001b[0;32m---> 16\u001b[0;31m         \u001b[0mself\u001b[0m\u001b[0;34m.\u001b[0m\u001b[0mset_turbine\u001b[0m\u001b[0;34m(\u001b[0m \u001b[0mturbine\u001b[0m \u001b[0;34m)\u001b[0m\u001b[0;34m\u001b[0m\u001b[0m\n\u001b[0m\u001b[1;32m     17\u001b[0m         \u001b[0mself\u001b[0m\u001b[0;34m.\u001b[0m\u001b[0mwake_field\u001b[0m\u001b[0;34m.\u001b[0m\u001b[0madd_wakes\u001b[0m\u001b[0;34m(\u001b[0m \u001b[0;34m[\u001b[0m \u001b[0mself\u001b[0m \u001b[0;34m]\u001b[0m \u001b[0;34m)\u001b[0m\u001b[0;34m\u001b[0m\u001b[0m\n\u001b[1;32m     18\u001b[0m         \u001b[0mself\u001b[0m\u001b[0;34m.\u001b[0m\u001b[0mcalc_multiplier_grid\u001b[0m\u001b[0;34m(\u001b[0m \u001b[0mflow_field\u001b[0m \u001b[0;34m)\u001b[0m\u001b[0;34m\u001b[0m\u001b[0m\n",
      "\u001b[0;32m~/Google Drive/OpenWAKE/openwake/wake_models/base_wake.py\u001b[0m in \u001b[0;36mset_turbine\u001b[0;34m(self, turbine)\u001b[0m\n\u001b[1;32m    136\u001b[0m             \u001b[0mself\u001b[0m\u001b[0;34m.\u001b[0m\u001b[0mturbine\u001b[0m \u001b[0;34m=\u001b[0m \u001b[0mturbine\u001b[0m\u001b[0;34m\u001b[0m\u001b[0m\n\u001b[1;32m    137\u001b[0m             \u001b[0;31m# assume that turbine is controlled to face incoming undisturbed flow\u001b[0m\u001b[0;34m\u001b[0m\u001b[0;34m\u001b[0m\u001b[0m\n\u001b[0;32m--> 138\u001b[0;31m             \u001b[0mself\u001b[0m\u001b[0;34m.\u001b[0m\u001b[0mturbine\u001b[0m\u001b[0;34m.\u001b[0m\u001b[0mset_direction\u001b[0m\u001b[0;34m(\u001b[0m\u001b[0mself\u001b[0m\u001b[0;34m.\u001b[0m\u001b[0mget_flow_field\u001b[0m\u001b[0;34m(\u001b[0m\u001b[0;34m)\u001b[0m\u001b[0;34m.\u001b[0m\u001b[0mget_undisturbed_flow_at_point\u001b[0m\u001b[0;34m(\u001b[0m\u001b[0mself\u001b[0m\u001b[0;34m.\u001b[0m\u001b[0mturbine\u001b[0m\u001b[0;34m.\u001b[0m\u001b[0mget_coords\u001b[0m\u001b[0;34m(\u001b[0m\u001b[0;34m)\u001b[0m\u001b[0;34m,\u001b[0m \u001b[0;32mFalse\u001b[0m\u001b[0;34m,\u001b[0m \u001b[0;32mTrue\u001b[0m\u001b[0;34m)\u001b[0m\u001b[0;34m)\u001b[0m\u001b[0;34m\u001b[0m\u001b[0m\n\u001b[0m",
      "\u001b[0;32m~/Google Drive/OpenWAKE/openwake/turbine_models/base_turbine.py\u001b[0m in \u001b[0;36mset_direction\u001b[0;34m(self, direction)\u001b[0m\n\u001b[1;32m    139\u001b[0m             \u001b[0;32massert\u001b[0m \u001b[0mall\u001b[0m\u001b[0;34m(\u001b[0m\u001b[0misinstance\u001b[0m\u001b[0;34m(\u001b[0m\u001b[0md\u001b[0m\u001b[0;34m,\u001b[0m \u001b[0;34m(\u001b[0m\u001b[0mfloat\u001b[0m\u001b[0;34m,\u001b[0m\u001b[0mint\u001b[0m\u001b[0;34m)\u001b[0m\u001b[0;34m)\u001b[0m \u001b[0;32mfor\u001b[0m \u001b[0md\u001b[0m \u001b[0;32min\u001b[0m \u001b[0mdirection\u001b[0m\u001b[0;34m)\u001b[0m\u001b[0;34m\u001b[0m\u001b[0m\n\u001b[1;32m    140\u001b[0m         \u001b[0;32mexcept\u001b[0m \u001b[0mAssertionError\u001b[0m\u001b[0;34m:\u001b[0m\u001b[0;34m\u001b[0m\u001b[0m\n\u001b[0;32m--> 141\u001b[0;31m             \u001b[0;32mraise\u001b[0m \u001b[0mTypeError\u001b[0m\u001b[0;34m(\u001b[0m\u001b[0;34m\"'direction' must be of type 'list' with three elements.\"\u001b[0m\u001b[0;34m)\u001b[0m\u001b[0;34m\u001b[0m\u001b[0m\n\u001b[0m\u001b[1;32m    142\u001b[0m         \u001b[0;32melse\u001b[0m\u001b[0;34m:\u001b[0m\u001b[0;34m\u001b[0m\u001b[0m\n\u001b[1;32m    143\u001b[0m             \u001b[0mself\u001b[0m\u001b[0;34m.\u001b[0m\u001b[0mdirection\u001b[0m \u001b[0;34m=\u001b[0m \u001b[0mnp\u001b[0m\u001b[0;34m.\u001b[0m\u001b[0marray\u001b[0m\u001b[0;34m(\u001b[0m\u001b[0mdirection\u001b[0m\u001b[0;34m)\u001b[0m\u001b[0;34m\u001b[0m\u001b[0m\n",
      "\u001b[0;31mTypeError\u001b[0m: 'direction' must be of type 'list' with three elements."
     ]
    }
   ],
   "source": [
    "from wake_models.wake_field_model import WakeField\n",
    "from wake_models.jensen import Jensen\n",
    "\n",
    "## START MODIFYING JENSON PARAMETER VALUES\n",
    "wakeDecayConstant = 0.3\n",
    "## STOP MODIFYING\n",
    "\n",
    "jensenWakeFieldInst = WakeField()\n",
    "\n",
    "jensenInst1 = Jensen(baseTurbineInst1, flowFieldInst, wakeDecayConstant, jensenWakeFieldInst)\n",
    "jensenInst2 = Jensen(baseTurbineInst2, flowFieldInst, wakeDecayConstant, jensenWakeFieldInst)\n",
    "jensenInst3 = Jensen(baseTurbineInst3, flowFieldInst, wakeDecayConstant, jensenWakeFieldInst)\n",
    "jensenInst4 = Jensen(baseTurbineInst4, flowFieldInst, wakeDecayConstant, jensenWakeFieldInst)\n",
    "jensenInst5 = Jensen(baseTurbineInst5, flowFieldInst, wakeDecayConstant, jensenWakeFieldInst)\n",
    "jensenInst6 = Jensen(baseTurbineInst6, flowFieldInst, wakeDecayConstant, jensenWakeFieldInst)\n",
    "\"\"\"\n",
    "jensenWakes = jensenWakeFieldInst.get_wakes()\n",
    "\n",
    "## START MODIFYING VALUES\n",
    "\n",
    "## STOP MODIFYING\n",
    "\n",
    "wakeInst = jensenWakes[0]\n",
    "turbineInst = turbines[0]\n",
    "turbineCoords = turbineInst.get_coords()\n",
    "pntCoords = [25, 10, 20]\n",
    "\n",
    "#flowMagAtPoint = wakeInst.get_disturbed_flow_at_point(pntCoords, flowFieldInst, True)\n",
    "\n",
    "#powerExtracted = turbineInst.calc_power_op(flowMagAtPoint)\n",
    "#powerExtracted\n",
    "\n",
    "#wakeInst.get_disturbed_flow_at_point(pntCoords, flowFieldInst, False)\n",
    "\"\"\""
   ]
  },
  {
   "cell_type": "markdown",
   "metadata": {},
   "source": [
    "### Larsen Model"
   ]
  },
  {
   "cell_type": "code",
   "execution_count": null,
   "metadata": {},
   "outputs": [],
   "source": [
    "from wake_models.larsen import Larsen\n",
    "\n",
    "## START MODIFYING LARSON PARAMETER VALUES\n",
    "wakeDecayConstant = 0.3\n",
    "ambientIntensity = 0.1\n",
    "## STOP MODIFYING LARSON PARAMETER VALUES\n",
    "\"\"\"\n",
    "larsenWakeFieldInst = WakeField()\n",
    "\n",
    "larsenInst1 = Larsen(baseTurbineInst1, flowFieldInst, wakeDecayConstant, ambientIntensity, larsenWakeFieldInst)\n",
    "larsenInst2 = Larsen(baseTurbineInst2, flowFieldInst, wakeDecayConstant, ambientIntensity, larsenWakeFieldInst)\n",
    "larsenInst3 = Larsen(baseTurbineInst3, flowFieldInst, wakeDecayConstant, ambientIntensity, larsenWakeFieldInst)\n",
    "\n",
    "larsenWakes = larsenWakeFieldInst.get_wakes()\n",
    "\n",
    "wakeInst = larsenWakes[0]\n",
    "turbineInst = turbines[1]\n",
    "pntCoords = turbineInst.get_coords()\n",
    "\n",
    "flowMagAtPoint = wakeInst.get_disturbed_flow_at_point(pntCoords, flowFieldInst, True)\n",
    "\n",
    "powerExtracted = turbineInst.calc_power_op(flowMagAtPoint)\n",
    "powerExtracted\n",
    "\"\"\""
   ]
  },
  {
   "cell_type": "markdown",
   "metadata": {},
   "source": [
    "### Ainslie Model"
   ]
  },
  {
   "cell_type": "code",
   "execution_count": null,
   "metadata": {},
   "outputs": [],
   "source": [
    "from wake_models.ainslie import Ainslie\n",
    "\n",
    "## START MODIFYING AINSLIE PARAMETER VALUES\n",
    "ambientIntensity = 0.5\n",
    "## STOP MODIFYING AINSLIE PARAMETER VALUES\n",
    "\n",
    "ainslieWakeFieldInst = WakeField()\n",
    "\"\"\"\n",
    "# Instantiate Wake Model\n",
    "ainslieInst1 = Ainslie(baseTurbineInst1, flowFieldInst, ambientIntensity, ainslieWakeFieldInst)\n",
    "ainslieInst2 = Ainslie(baseTurbineInst2, flowFieldInst, ambientIntensity, ainslieWakeFieldInst)\n",
    "ainslieInst3 = Ainslie(baseTurbineInst3, flowFieldInst, ambientIntensity, ainslieWakeFieldInst)\n",
    "\n",
    "ainslieWakes = ainslieWakeFieldInst.get_wakes()\n",
    "\n",
    "wakeInst = ainslieWakes[0]\n",
    "turbineInst = turbines[1]\n",
    "pntCoords = turbineInst.get_coords()\n",
    "\n",
    "flowMagAtPoint = wakeInst.get_disturbed_flow_at_point(pntCoords, flowFieldInst, True)\n",
    "\n",
    "powerExtracted = turbineInst.calc_power_op(flowMagAtPoint)\n",
    "powerExtracted\n",
    "\"\"\""
   ]
  },
  {
   "cell_type": "markdown",
   "metadata": {},
   "source": [
    "## Wake-Combination Models"
   ]
  },
  {
   "cell_type": "markdown",
   "metadata": {},
   "source": [
    "### Linear Superposition"
   ]
  },
  {
   "cell_type": "code",
   "execution_count": null,
   "metadata": {},
   "outputs": [],
   "source": [
    "from combination_models.linear_superposition import LinearSuperposition\n",
    "\n",
    "wakeFieldInst = jensenWakeFieldInst\n",
    "\n",
    "linearInst = LinearSuperposition(flowFieldInst, wakeFieldInst)\n",
    "linearInst\n",
    "\n",
    "\"\"\"\n",
    "wakeCombinationInst = linearInst\n",
    "#pntCoords = turbines[0].get_coords()\n",
    "#flowMagAtPoint = wakeCombinationInst.get_disturbed_flow_at_point(pntCoords, flowFieldInst, wakeFieldInst, True)\n",
    "\n",
    "#powerExtracted = turbineInst.calc_power_op(flowMagAtPoint)\n",
    "#powerExtracted\n",
    "#linearInst.get_disturbed_flow_grid(flowFieldInst, wakeFieldInst, True)[49, 24,20]\n",
    "\n",
    "#linearInst.get_disturbed_flow_at_point([49,24,20], flowFieldInst, wakeFieldInst, False, True)\n",
    "\"\"\""
   ]
  },
  {
   "cell_type": "markdown",
   "metadata": {},
   "source": [
    "### Sum of Squares"
   ]
  },
  {
   "cell_type": "code",
   "execution_count": null,
   "metadata": {},
   "outputs": [],
   "source": [
    "from combination_models.sum_of_squares import SumOfSquares\n",
    "\"\"\"\n",
    "sosInst = SumOfSquares(flowFieldInst, wakeFieldInst)\n",
    "sosInst\n",
    "\n",
    "wakeCombinationInst = sosInst\n",
    "pntCoords = turbines[2].get_coords()\n",
    "\n",
    "flowMagAtPoint = wakeCombinationInst.get_disturbed_flow_at_point(pntCoords, flowFieldInst, wakeFieldInst, True)\n",
    "\n",
    "powerExtracted = turbineInst.calc_power_op(flowMagAtPoint)\n",
    "powerExtracted\n",
    "\"\"\""
   ]
  },
  {
   "cell_type": "markdown",
   "metadata": {},
   "source": [
    "### Energy Balance"
   ]
  },
  {
   "cell_type": "code",
   "execution_count": null,
   "metadata": {},
   "outputs": [],
   "source": [
    "from combination_models.energy_balance import EnergyBalance\n",
    "\"\"\"\n",
    "ebInst = EnergyBalance(flowFieldInst, wakeFieldInst)\n",
    "ebInst\n",
    "\n",
    "wakeCombinationInst = ebInst\n",
    "pntCoords = turbines[2].get_coords()\n",
    "\n",
    "flowMagAtPoint = wakeCombinationInst.get_disturbed_flow_at_point(pntCoords, flowFieldInst, wakeFieldInst, True)\n",
    "\n",
    "powerExtracted = turbineInst.calc_power_op(flowMagAtPoint)\n",
    "powerExtracted\n",
    "\"\"\""
   ]
  },
  {
   "cell_type": "markdown",
   "metadata": {},
   "source": [
    "### Geometric Sum"
   ]
  },
  {
   "cell_type": "code",
   "execution_count": null,
   "metadata": {},
   "outputs": [],
   "source": [
    "from combination_models.geometric_sum import GeometricSum\n",
    "\"\"\"\n",
    "gsInst = GeometricSum(flowFieldInst, wakeFieldInst)\n",
    "gsInst\n",
    "\n",
    "\n",
    "wakeCombinationInst = gsInst\n",
    "pntCoords = turbines[2].get_coords()\n",
    "\n",
    "flowMagAtPoint = wakeCombinationInst.get_disturbed_flow_at_point(pntCoords, flowFieldInst, wakeFieldInst, True)\n",
    "\n",
    "powerExtracted = turbineInst.calc_power_op(flowMagAtPoint)\n",
    "powerExtracted\n",
    "\"\"\""
   ]
  },
  {
   "cell_type": "markdown",
   "metadata": {},
   "source": [
    "## Plots"
   ]
  },
  {
   "cell_type": "code",
   "execution_count": null,
   "metadata": {
    "scrolled": true
   },
   "outputs": [],
   "source": [
    "from plot_functions.plots import plot_wakes_vs_flow_dir, plot_power_vs_flow_dir, plot_wakes, make_wake_contours\n",
    "\n",
    "wakeFieldInst, wakeCombinationInst, plane = jensenWakeFieldInst, linearInst, 'xz'\n",
    "\n",
    "make_wake_contours(wakeFieldInst, wakeCombinationInst, turbineFieldInst, flowFieldInst, plane='xy', plot=True)\n",
    "\n",
    "plot_wakes_vs_flow_dir(wakeFieldInst, wakeCombinationInst, turbineFieldInst, flowFieldInst)\n",
    "\n",
    "plot_power_vs_flow_dir(wakeFieldInst, wakeCombinationInst, turbineFieldInst, flowFieldInst)"
   ]
  },
  {
   "cell_type": "markdown",
   "metadata": {},
   "source": [
    "## WindIO"
   ]
  },
  {
   "cell_type": "code",
   "execution_count": null,
   "metadata": {},
   "outputs": [],
   "source": [
    "#%load_ext autoreload\n",
    "#%autoreload 2\n",
    "#from turbine_farm_models.turbine_farm import *"
   ]
  },
  {
   "cell_type": "markdown",
   "metadata": {},
   "source": [
    "## Thetis"
   ]
  },
  {
   "cell_type": "code",
   "execution_count": null,
   "metadata": {},
   "outputs": [],
   "source": [
    "!source firedrake/bin/activate\n",
    "!cd firedrake/src/thetis/\n",
    "!git checkout single-turbine\n",
    "!cd examples/singleTurbine\n",
    "!gmsh -2 channel.geo\n",
    "!python3 run.py"
   ]
  },
  {
   "cell_type": "code",
   "execution_count": null,
   "metadata": {},
   "outputs": [],
   "source": []
  },
  {
   "cell_type": "code",
   "execution_count": null,
   "metadata": {},
   "outputs": [],
   "source": []
  }
 ],
 "metadata": {
  "kernelspec": {
   "display_name": "Python 3",
   "language": "python",
   "name": "python3"
  },
  "language_info": {
   "codemirror_mode": {
    "name": "ipython",
    "version": 3
   },
   "file_extension": ".py",
   "mimetype": "text/x-python",
   "name": "python",
   "nbconvert_exporter": "python",
   "pygments_lexer": "ipython3",
   "version": "3.6.5"
  }
 },
 "nbformat": 4,
 "nbformat_minor": 2
}
